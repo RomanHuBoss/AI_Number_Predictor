{
 "cells": [
  {
   "cell_type": "markdown",
   "metadata": {},
   "source": [
    "# Анализ среднего числа попыток, затрачиваемых для поиска (\"угадывания\") числа в заданном интервале методом дихотомии"
   ]
  },
  {
   "cell_type": "code",
   "execution_count": 5,
   "metadata": {},
   "outputs": [],
   "source": [
    "from analyzer import Analyzer"
   ]
  },
  {
   "cell_type": "markdown",
   "metadata": {},
   "source": [
    "## Ввод исходных данных для начала анализа"
   ]
  },
  {
   "cell_type": "code",
   "execution_count": 6,
   "metadata": {},
   "outputs": [
    {
     "name": "stdout",
     "output_type": "stream",
     "text": [
      "Посредством дихотомии случайное число, загаданное в интервале (1, 1000), в среднем угадывается за: 9 попыток\n"
     ]
    }
   ],
   "source": [
    "try:\n",
    "    min_limit = int(input(\"Введите левую границу диапазона чисел (1 по умолчанию): \"))\n",
    "except:\n",
    "    min_limit = 1\n",
    "    \n",
    "try:\n",
    "    max_limit = int(input(\"Введите правую границу диапазона чисел (100 по умолчанию): \"))\n",
    "except:\n",
    "    max_limit = 100\n",
    "    \n",
    "try:\n",
    "    sample_size = int(input(\"Введите размер выборки для сбора статистики (20 по умолчанию): \"))\n",
    "except:\n",
    "    sample_size = 1000\n",
    "    \n",
    "analyzer = Analyzer(min_limit, max_limit)\n",
    "mean_tries = analyzer.collect_stat(sample_size)\n",
    "print(f\"Посредством дихотомии случайное число, загаданное в интервале {min_limit, max_limit}, в среднем угадывается за: {mean_tries} попыток\")\n"
   ]
  }
 ],
 "metadata": {
  "interpreter": {
   "hash": "15da12a56cabd70a6f0c2c195284ad0958f4c3692afcc4483bfc2cc73ce5caaa"
  },
  "kernelspec": {
   "display_name": "Python 3.9.11 64-bit (windows store)",
   "language": "python",
   "name": "python3"
  },
  "language_info": {
   "codemirror_mode": {
    "name": "ipython",
    "version": 3
   },
   "file_extension": ".py",
   "mimetype": "text/x-python",
   "name": "python",
   "nbconvert_exporter": "python",
   "pygments_lexer": "ipython3",
   "version": "3.9.11"
  },
  "orig_nbformat": 4
 },
 "nbformat": 4,
 "nbformat_minor": 2
}
